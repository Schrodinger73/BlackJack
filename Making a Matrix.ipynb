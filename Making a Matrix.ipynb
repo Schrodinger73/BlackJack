{
 "cells": [
  {
   "cell_type": "code",
   "execution_count": 55,
   "id": "1e2ae2d1-0ce1-4010-82a1-7b8947a131d9",
   "metadata": {},
   "outputs": [],
   "source": [
    "import numpy as np\n",
    "import random\n",
    "from tqdm import tqdm"
   ]
  },
  {
   "cell_type": "code",
   "execution_count": 56,
   "id": "60511b56-ee9d-40ee-8349-5b063f5f5346",
   "metadata": {},
   "outputs": [],
   "source": [
    "global M\n",
    "global N"
   ]
  },
  {
   "cell_type": "code",
   "execution_count": 57,
   "id": "5cf604d8-a15a-4495-bdc8-b52485d83602",
   "metadata": {},
   "outputs": [],
   "source": [
    "M = np.zeros((21, 21))\n",
    "N = np.zeros((21, 21))"
   ]
  },
  {
   "cell_type": "code",
   "execution_count": 58,
   "id": "5a621f4e-d4f9-434d-b725-170a3fb8fa4b",
   "metadata": {},
   "outputs": [],
   "source": [
    "class card:\n",
    "    def __init__(self, number):\n",
    "        self.number = number"
   ]
  },
  {
   "cell_type": "code",
   "execution_count": 59,
   "id": "a9d1727d-2f05-4ad1-bc0a-6dd8ca1bd100",
   "metadata": {},
   "outputs": [],
   "source": [
    "deck = []\n",
    "for i in range(1, 14):\n",
    "    if i <= 9:\n",
    "        for j in range(0, 4):\n",
    "            c = card(i)\n",
    "            deck.append(c)\n",
    "    if i >= 10:\n",
    "        for j in range(0, 4):\n",
    "            c = card(10)\n",
    "            deck.append(c)"
   ]
  },
  {
   "cell_type": "code",
   "execution_count": 60,
   "id": "cf3feb5a-1b6f-4daa-bc17-15d49eb917dc",
   "metadata": {},
   "outputs": [],
   "source": [
    "class Computer:\n",
    "    def __init__(self):\n",
    "        self.hand = []\n",
    "        self.score = 0\n",
    "    def nextMove(self, other, deck, M, N):\n",
    "        ind = random.randint(0, len(deck) - 1)\n",
    "        ca = deck[ind]\n",
    "        deck.pop(ind)\n",
    "        if self.score < 21:\n",
    "            if self.score + ca.number > 21:\n",
    "                M[self.score - 1][other.score - 1] += 1\n",
    "                N[self.score - 1][other.score - 1] += 1\n",
    "                return [M, N]\n",
    "            if self.score + ca.number == 21:\n",
    "                if other.score == 21:\n",
    "                    if len(other.hand) < len(self.hand) + 1:\n",
    "                        M[self.score - 1][other.score - 1] += 1\n",
    "                        N[self.score - 1][other.score - 1] += 1\n",
    "                        return [M, N]\n",
    "                    if len(other.hand) == len(self.hand) + 1:\n",
    "                        M[self.score - 1][other.score - 1] += 0.5\n",
    "                        N[self.score - 1][other.score - 1] += 1\n",
    "                        return [M, N]\n",
    "                N[self.score - 1][other.score - 1] += 1\n",
    "                return [M, N]\n",
    "            if self.score + ca.number < 21:\n",
    "                N[self.score - 1][other.score - 1] += 1\n",
    "                self.score += ca.number\n",
    "                self.hand.append(ca)\n",
    "                return [deck, N]"
   ]
  },
  {
   "cell_type": "code",
   "execution_count": 61,
   "id": "c7d5f9f8-fd58-4171-90b4-7b2f00d5a9d8",
   "metadata": {},
   "outputs": [],
   "source": [
    "def BlackJackRandom(M, N):\n",
    "    deck = []\n",
    "    for i in range(1, 14):\n",
    "        if i <= 9:\n",
    "            for j in range(0, 4):\n",
    "                c = card(i)\n",
    "                deck.append(c)\n",
    "        if i >= 10:\n",
    "            for j in range(0, 4):\n",
    "                c = card(10)\n",
    "                deck.append(c)\n",
    "    P1 = Computer()\n",
    "    P2 = Computer()\n",
    "    Curr = P1\n",
    "    Opp = P2\n",
    "    t = [deck, M]\n",
    "    f = M\n",
    "    while True:\n",
    "        t = Curr.nextMove(Opp, t[0], M, N)\n",
    "        if type(t[0]) == np.ndarray:\n",
    "            return t\n",
    "            break\n",
    "        New = Curr\n",
    "        Curr = Opp\n",
    "        Opp = New\n",
    "    return f"
   ]
  },
  {
   "cell_type": "code",
   "execution_count": 62,
   "id": "f2b0f0d6-2cd9-4fe4-9e8d-fa529f79b567",
   "metadata": {},
   "outputs": [],
   "source": [
    "def BlackJackMatrix(M, N, n):\n",
    "    for i in tqdm(range(0, n)):\n",
    "        K = BlackJackRandom(M, N)\n",
    "        M = K[0]\n",
    "        N = K[1]\n",
    "    for i in range(21):\n",
    "        for j in range(21):\n",
    "            if M[i][j] != 0:\n",
    "                M[i][j] = M[i][j]/N[i][j]\n",
    "    return M"
   ]
  },
  {
   "cell_type": "code",
   "execution_count": 63,
   "id": "e0fa9109-1123-4853-a64b-1c03431a3894",
   "metadata": {},
   "outputs": [
    {
     "name": "stderr",
     "output_type": "stream",
     "text": [
      "100%|██████████████████████████████| 3000000/3000000 [01:06<00:00, 44950.23it/s]\n"
     ]
    }
   ],
   "source": [
    "M = BlackJackMatrix(M, N, 3000000)"
   ]
  },
  {
   "cell_type": "code",
   "execution_count": 64,
   "id": "438617bb-e5c1-4827-8f26-cda6fe209d92",
   "metadata": {},
   "outputs": [
    {
     "data": {
      "text/plain": [
       "array([[0.        , 0.        , 0.        , 0.        , 0.        ,\n",
       "        0.        , 0.        , 0.        , 0.        , 0.        ,\n",
       "        0.        , 0.        , 0.        , 0.        , 0.        ,\n",
       "        0.        , 0.        , 0.        , 0.        , 0.        ,\n",
       "        0.        ],\n",
       "       [0.        , 0.        , 0.        , 0.        , 0.        ,\n",
       "        0.        , 0.        , 0.        , 0.        , 0.        ,\n",
       "        0.        , 0.        , 0.        , 0.        , 0.        ,\n",
       "        0.        , 0.        , 0.        , 0.        , 0.        ,\n",
       "        0.        ],\n",
       "       [0.        , 0.        , 0.        , 0.        , 0.        ,\n",
       "        0.        , 0.        , 0.        , 0.        , 0.        ,\n",
       "        0.        , 0.        , 0.        , 0.        , 0.        ,\n",
       "        0.        , 0.        , 0.        , 0.        , 0.        ,\n",
       "        0.        ],\n",
       "       [0.        , 0.        , 0.        , 0.        , 0.        ,\n",
       "        0.        , 0.        , 0.        , 0.        , 0.        ,\n",
       "        0.        , 0.        , 0.        , 0.        , 0.        ,\n",
       "        0.        , 0.        , 0.        , 0.        , 0.        ,\n",
       "        0.        ],\n",
       "       [0.        , 0.        , 0.        , 0.        , 0.        ,\n",
       "        0.        , 0.        , 0.        , 0.        , 0.        ,\n",
       "        0.        , 0.        , 0.        , 0.        , 0.        ,\n",
       "        0.        , 0.        , 0.        , 0.        , 0.        ,\n",
       "        0.        ],\n",
       "       [0.        , 0.        , 0.        , 0.        , 0.        ,\n",
       "        0.        , 0.        , 0.        , 0.        , 0.        ,\n",
       "        0.        , 0.        , 0.        , 0.        , 0.        ,\n",
       "        0.        , 0.        , 0.        , 0.        , 0.        ,\n",
       "        0.        ],\n",
       "       [0.        , 0.        , 0.        , 0.        , 0.        ,\n",
       "        0.        , 0.        , 0.        , 0.        , 0.        ,\n",
       "        0.        , 0.        , 0.        , 0.        , 0.        ,\n",
       "        0.        , 0.        , 0.        , 0.        , 0.        ,\n",
       "        0.        ],\n",
       "       [0.        , 0.        , 0.        , 0.        , 0.        ,\n",
       "        0.        , 0.        , 0.        , 0.        , 0.        ,\n",
       "        0.        , 0.        , 0.        , 0.        , 0.        ,\n",
       "        0.        , 0.        , 0.        , 0.        , 0.        ,\n",
       "        0.        ],\n",
       "       [0.        , 0.        , 0.        , 0.        , 0.        ,\n",
       "        0.        , 0.        , 0.        , 0.        , 0.        ,\n",
       "        0.        , 0.        , 0.        , 0.        , 0.        ,\n",
       "        0.        , 0.        , 0.        , 0.        , 0.        ,\n",
       "        0.        ],\n",
       "       [0.        , 0.        , 0.        , 0.        , 0.        ,\n",
       "        0.        , 0.        , 0.        , 0.        , 0.        ,\n",
       "        0.        , 0.        , 0.        , 0.        , 0.        ,\n",
       "        0.        , 0.        , 0.        , 0.        , 0.        ,\n",
       "        0.        ],\n",
       "       [0.        , 0.        , 0.        , 0.        , 0.        ,\n",
       "        0.        , 0.        , 0.        , 0.        , 0.        ,\n",
       "        0.        , 0.        , 0.        , 0.        , 0.        ,\n",
       "        0.        , 0.        , 0.        , 0.        , 0.        ,\n",
       "        0.        ],\n",
       "       [0.        , 0.3086516 , 0.32510288, 0.3267798 , 0.32653061,\n",
       "        0.31836735, 0.32108334, 0.32011015, 0.32544939, 0.32255747,\n",
       "        0.31767222, 0.318225  , 0.31638183, 0.31720356, 0.31424333,\n",
       "        0.31593776, 0.31390066, 0.31362367, 0.31333607, 0.30189049,\n",
       "        0.        ],\n",
       "       [0.        , 0.39983444, 0.40029762, 0.40045506, 0.39455882,\n",
       "        0.39654383, 0.4082664 , 0.40832279, 0.40287286, 0.40197268,\n",
       "        0.38915316, 0.39423335, 0.39524316, 0.39624167, 0.397232  ,\n",
       "        0.39584687, 0.38765819, 0.39450359, 0.38694604, 0.38150928,\n",
       "        0.        ],\n",
       "       [0.        , 0.4875    , 0.49155296, 0.47444934, 0.48882987,\n",
       "        0.48591287, 0.49427518, 0.48732943, 0.48125679, 0.47534801,\n",
       "        0.47342787, 0.47229139, 0.47009056, 0.4788635 , 0.46679794,\n",
       "        0.47443259, 0.47008261, 0.46351064, 0.46747784, 0.45886889,\n",
       "        0.        ],\n",
       "       [0.        , 0.57418112, 0.56223479, 0.55368664, 0.56001861,\n",
       "        0.56560462, 0.56001162, 0.56025578, 0.56259894, 0.55321065,\n",
       "        0.54974996, 0.55058466, 0.54987266, 0.54862022, 0.54484171,\n",
       "        0.55189607, 0.54644781, 0.54855556, 0.54788096, 0.54020631,\n",
       "        0.        ],\n",
       "       [0.        , 0.60416667, 0.63344658, 0.62132447, 0.63443236,\n",
       "        0.62320558, 0.63267918, 0.62116131, 0.62579875, 0.621756  ,\n",
       "        0.6152555 , 0.61590893, 0.62340764, 0.61738676, 0.61997071,\n",
       "        0.61606129, 0.61674384, 0.61435647, 0.61167639, 0.60735684,\n",
       "        0.        ],\n",
       "       [0.        , 0.7247807 , 0.71600832, 0.69348659, 0.70724274,\n",
       "        0.7       , 0.70375053, 0.7057076 , 0.70182556, 0.69270317,\n",
       "        0.6978169 , 0.70578495, 0.69443542, 0.69814971, 0.6891923 ,\n",
       "        0.69461592, 0.69543559, 0.69395221, 0.6934636 , 0.68404021,\n",
       "        0.        ],\n",
       "       [0.        , 0.7701005 , 0.8023753 , 0.7878125 , 0.7861648 ,\n",
       "        0.78028779, 0.77991779, 0.7776837 , 0.77496405, 0.77572058,\n",
       "        0.77284895, 0.77508759, 0.7721461 , 0.76947836, 0.77365588,\n",
       "        0.76323456, 0.76922014, 0.76991791, 0.76772986, 0.76573323,\n",
       "        0.        ],\n",
       "       [0.        , 0.89026063, 0.87594554, 0.86343042, 0.86223486,\n",
       "        0.85921291, 0.85952263, 0.86192975, 0.85210809, 0.85041958,\n",
       "        0.8529926 , 0.85140384, 0.84802906, 0.84612242, 0.84939347,\n",
       "        0.84822485, 0.84744319, 0.8470841 , 0.84635019, 0.84334952,\n",
       "        0.        ],\n",
       "       [0.        , 0.96133434, 0.93651219, 0.93675889, 0.93103871,\n",
       "        0.93059877, 0.92302153, 0.92554831, 0.92701225, 0.92291607,\n",
       "        0.92463415, 0.92438028, 0.92323537, 0.92381391, 0.9235357 ,\n",
       "        0.92187281, 0.92262567, 0.9213581 , 0.92257491, 0.92212761,\n",
       "        0.        ],\n",
       "       [0.        , 0.        , 0.        , 0.        , 0.        ,\n",
       "        0.        , 0.        , 0.        , 0.        , 0.        ,\n",
       "        0.        , 0.        , 0.        , 0.        , 0.        ,\n",
       "        0.        , 0.        , 0.        , 0.        , 0.        ,\n",
       "        0.        ]])"
      ]
     },
     "execution_count": 64,
     "metadata": {},
     "output_type": "execute_result"
    }
   ],
   "source": [
    "M"
   ]
  },
  {
   "cell_type": "code",
   "execution_count": 65,
   "id": "42ecdeac-1bd5-4fd7-aaa0-1311c03154e4",
   "metadata": {},
   "outputs": [],
   "source": [
    "np.save(file = \"ProbMatrix.npy\", arr = M)"
   ]
  }
 ],
 "metadata": {
  "kernelspec": {
   "display_name": "Python 3 (ipykernel)",
   "language": "python",
   "name": "python3"
  },
  "language_info": {
   "codemirror_mode": {
    "name": "ipython",
    "version": 3
   },
   "file_extension": ".py",
   "mimetype": "text/x-python",
   "name": "python",
   "nbconvert_exporter": "python",
   "pygments_lexer": "ipython3",
   "version": "3.12.1"
  }
 },
 "nbformat": 4,
 "nbformat_minor": 5
}
